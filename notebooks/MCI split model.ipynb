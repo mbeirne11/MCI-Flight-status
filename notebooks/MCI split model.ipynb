{
 "cells": [
  {
   "cell_type": "code",
   "execution_count": 1,
   "id": "b78582ba",
   "metadata": {},
   "outputs": [],
   "source": [
    "import pandas as pd"
   ]
  },
  {
   "cell_type": "code",
   "execution_count": 2,
   "id": "4867e70d",
   "metadata": {},
   "outputs": [],
   "source": [
    "import math"
   ]
  },
  {
   "cell_type": "code",
   "execution_count": 3,
   "id": "32ee8f69",
   "metadata": {},
   "outputs": [],
   "source": [
    "MCI_flights_df = pd.read_csv('../Resources/MCI_21-23.csv').drop(['Unnamed: 0'],axis=1)"
   ]
  },
  {
   "cell_type": "code",
   "execution_count": null,
   "id": "35707d83",
   "metadata": {
    "scrolled": true
   },
   "outputs": [],
   "source": [
    "MCI_flights_df=MCI_flights_df.replace({'Status': {'On Time': 0, 'Delayed': 1},'MONTH':{1:'January', 2: 'February',3:'March', 4: 'April',5:'May', 6: 'Jun',7:'July', 8: 'August',9:'September', 10: 'October',11:'November', 12: 'December'},'DAY_OF_WEEK':{1:'Monday', 2: 'Tuesday',3:'Wednesday', 4: 'Thursday',5:'Friday', 6: 'Saturday',7:'Sunday'}})\n",
    "MCI_flights_df"
   ]
  },
  {
   "cell_type": "code",
   "execution_count": null,
   "id": "3632c1a7",
   "metadata": {},
   "outputs": [],
   "source": [
    "MCI_flights_df = MCI_flights_df.astype({'DAY_OF_MONTH': 'object','DEP_DELAY_GROUP':'object'})"
   ]
  },
  {
   "cell_type": "code",
   "execution_count": null,
   "id": "ca71df67",
   "metadata": {
    "scrolled": true
   },
   "outputs": [],
   "source": [
    "MCI_flights_df.columns"
   ]
  },
  {
   "cell_type": "code",
   "execution_count": null,
   "id": "4a3829db",
   "metadata": {},
   "outputs": [],
   "source": [
    "MCI_flights_df['Status'].describe()"
   ]
  },
  {
   "cell_type": "code",
   "execution_count": null,
   "id": "c01e8171",
   "metadata": {},
   "outputs": [],
   "source": [
    "MCI_flights_df.loc[MCI_flights_df['MKT_UNIQUE_CARRIER']=='WN']['Status'].value_counts()"
   ]
  },
  {
   "cell_type": "markdown",
   "id": "6233dbf1",
   "metadata": {},
   "source": [
    "MCI_flights_df.to_csv('../Resources/MCI_21-23.csv')"
   ]
  },
  {
   "cell_type": "code",
   "execution_count": null,
   "id": "16424e67",
   "metadata": {},
   "outputs": [],
   "source": [
    "MCI_origin_df=MCI_flights_df.loc[MCI_flights_df['ORIGIN'] == 'MCI']\n",
    "MCI_dest_df=MCI_flights_df.loc[MCI_flights_df['DEST'] == 'MCI']\n",
    "MCI_2021_df=MCI_flights_df.loc[MCI_flights_df['YEAR'] == 2021]\n",
    "MCI_2022_df=MCI_flights_df.loc[MCI_flights_df['YEAR'] == 2022]\n",
    "MCI_2023_df=MCI_flights_df.loc[MCI_flights_df['YEAR'] == 2023]\n",
    "MCI_WN_df=MCI_flights_df.loc[MCI_flights_df['MKT_UNIQUE_CARRIER'] == 'WN']\n",
    "MCI_notWN_df=MCI_flights_df.loc[MCI_flights_df['MKT_UNIQUE_CARRIER'] != 'WN']"
   ]
  },
  {
   "cell_type": "code",
   "execution_count": null,
   "id": "9a32be09",
   "metadata": {},
   "outputs": [],
   "source": [
    "avg_dept_delay_dict = MCI_origin_df.groupby(['MONTH', 'DAY_OF_WEEK', 'MKT_UNIQUE_CARRIER', 'DEP_TIME_BLK','DEST'])['DEP_DELAY_NEW'].mean()\n",
    "avg_arr_delay_dict = MCI_dest_df.groupby(['MONTH','DAY_OF_WEEK', 'MKT_UNIQUE_CARRIER', 'ORIGIN'])['ARR_DELAY_NEW'].mean()"
   ]
  },
  {
   "cell_type": "code",
   "execution_count": null,
   "id": "5ae7bc52",
   "metadata": {},
   "outputs": [],
   "source": [
    "avg_arr_delay_dict"
   ]
  },
  {
   "cell_type": "code",
   "execution_count": null,
   "id": "adf282d0",
   "metadata": {},
   "outputs": [],
   "source": [
    "avg_dept_delay_dict.describe()"
   ]
  },
  {
   "cell_type": "code",
   "execution_count": null,
   "id": "d5ba2124",
   "metadata": {
    "scrolled": true
   },
   "outputs": [],
   "source": [
    "avg_dept_delay_dict"
   ]
  },
  {
   "cell_type": "code",
   "execution_count": null,
   "id": "c4c43984",
   "metadata": {},
   "outputs": [],
   "source": [
    "avg_origin_dep_delays = []\n",
    "for row in MCI_origin_df.iterrows():\n",
    "    month = row[1]['MONTH']\n",
    "    dow = row[1]['DAY_OF_WEEK']\n",
    "    carrier = row[1]['MKT_UNIQUE_CARRIER']\n",
    "    time = row[1]['DEP_TIME_BLK']\n",
    "    dest = row[1]['DEST']\n",
    "    try:\n",
    "        avg_dep_delay = avg_dept_delay_dict[month][dow][carrier][time][dest]\n",
    "        avg_origin_dep_delays.append(avg_dep_delay)\n",
    "    except:\n",
    "        avg_origin_dep_delays.append(12.72)"
   ]
  },
  {
   "cell_type": "code",
   "execution_count": null,
   "id": "f162f18a",
   "metadata": {},
   "outputs": [],
   "source": [
    "avg_dest_dep_delays = []\n",
    "for row in MCI_dest_df.iterrows():\n",
    "    month = row[1]['MONTH']\n",
    "    dow = row[1]['DAY_OF_WEEK']\n",
    "    carrier = row[1]['MKT_UNIQUE_CARRIER']\n",
    "    time = row[1]['DEP_TIME_BLK']\n",
    "    origin = row[1]['ORIGIN']\n",
    "    try:\n",
    "        avg_dep_delay = avg_dept_delay_dict[month][dow][carrier][time][origin]\n",
    "        avg_dest_dep_delays.append(avg_dep_delay)\n",
    "    except:\n",
    "        avg_dest_dep_delays.append(12.72)"
   ]
  },
  {
   "cell_type": "code",
   "execution_count": null,
   "id": "78941dec",
   "metadata": {},
   "outputs": [],
   "source": [
    "avg_origin_arr_delays = []\n",
    "for row in MCI_origin_df.iterrows():\n",
    "    month = row[1]['MONTH']\n",
    "    dow = row[1]['DAY_OF_WEEK']\n",
    "    carrier = row[1]['MKT_UNIQUE_CARRIER']\n",
    "    dest = row[1]['DEST']\n",
    "    try:\n",
    "        avg_arr_delay = avg_arr_delay_dict[month][dow][carrier][dest]\n",
    "        avg_origin_arr_delays.append(avg_arr_delay)\n",
    "    except:\n",
    "        avg_origin_arr_delays.append(12)"
   ]
  },
  {
   "cell_type": "code",
   "execution_count": null,
   "id": "a678c1e2",
   "metadata": {},
   "outputs": [],
   "source": [
    "avg_dest_arr_delays = []\n",
    "for row in MCI_dest_df.iterrows():\n",
    "    month = row[1]['MONTH']\n",
    "    dow = row[1]['DAY_OF_WEEK']\n",
    "    carrier = row[1]['MKT_UNIQUE_CARRIER']\n",
    "    origin = row[1]['ORIGIN']\n",
    "    try:\n",
    "        avg_arr_delay = avg_arr_delay_dict[month][dow][carrier][origin]\n",
    "        avg_dest_arr_delays.append(avg_arr_delay)\n",
    "    except:\n",
    "        avg_dest_arr_delays.append(12)"
   ]
  },
  {
   "cell_type": "code",
   "execution_count": null,
   "id": "a22d5778",
   "metadata": {},
   "outputs": [],
   "source": [
    "MCI_origin_df['AVG_DEP_DELAY']=avg_origin_dep_delays\n",
    "MCI_origin_df['AVG_ARR_DELAY']=avg_origin_arr_delays\n",
    "\n",
    "MCI_dest_df['AVG_DEP_DELAY']=avg_dest_dep_delays\n",
    "MCI_dest_df['AVG_ARR_DELAY']=avg_dest_arr_delays"
   ]
  },
  {
   "cell_type": "code",
   "execution_count": null,
   "id": "49bef9e0",
   "metadata": {},
   "outputs": [],
   "source": [
    "MCI_origin_df"
   ]
  },
  {
   "cell_type": "code",
   "execution_count": null,
   "id": "bb71ba88",
   "metadata": {},
   "outputs": [],
   "source": [
    "MCI_dest_df"
   ]
  },
  {
   "cell_type": "code",
   "execution_count": null,
   "id": "27eb60b9",
   "metadata": {},
   "outputs": [],
   "source": [
    "X_origin = MCI_origin_df[['YEAR','MONTH','DAY_OF_MONTH', 'DAY_OF_WEEK', 'MKT_UNIQUE_CARRIER', 'ORIGIN', 'DEST', 'DEP_TIME_BLK']]"
   ]
  },
  {
   "cell_type": "code",
   "execution_count": null,
   "id": "d2010ee7",
   "metadata": {},
   "outputs": [],
   "source": [
    "X_dest = MCI_dest_df[['YEAR','MONTH','DAY_OF_MONTH', 'DAY_OF_WEEK', 'MKT_UNIQUE_CARRIER', 'ORIGIN', 'DEST', 'DEP_TIME_BLK']]"
   ]
  },
  {
   "cell_type": "code",
   "execution_count": null,
   "id": "14f2c153",
   "metadata": {},
   "outputs": [],
   "source": [
    "X = pd.concat([X_origin,X_dest])\n",
    "X"
   ]
  },
  {
   "cell_type": "code",
   "execution_count": null,
   "id": "9c8ed39b",
   "metadata": {},
   "outputs": [],
   "source": [
    "X['DELAY_FACTOR'] = X['AVG_ARR_DELAY']*X['AVG_DEP_DELAY']"
   ]
  },
  {
   "cell_type": "code",
   "execution_count": null,
   "id": "e079acb5",
   "metadata": {},
   "outputs": [],
   "source": [
    "factors = []\n",
    "for factor in X['DELAY_FACTOR']:\n",
    "    factors.append(math.sqrt(factor))"
   ]
  },
  {
   "cell_type": "code",
   "execution_count": null,
   "id": "225db492",
   "metadata": {},
   "outputs": [],
   "source": [
    "X['DELAY_FACTOR'] = factors"
   ]
  },
  {
   "cell_type": "code",
   "execution_count": null,
   "id": "e2e58bad",
   "metadata": {},
   "outputs": [],
   "source": [
    "X.dtypes"
   ]
  },
  {
   "cell_type": "code",
   "execution_count": null,
   "id": "180076a4",
   "metadata": {},
   "outputs": [],
   "source": [
    "X.describe()"
   ]
  },
  {
   "cell_type": "code",
   "execution_count": null,
   "id": "e9200a81",
   "metadata": {},
   "outputs": [],
   "source": [
    "avg_arr_delay_blks = []\n",
    "avg_dep_delay_blks = []\n",
    "avg_delay_blks = []    \n",
    "avg_taxi_blks = []\n",
    "for row in X.iterrows():\n",
    "    avg_arr_delay = row[1]['AVG_ARR_DELAY']\n",
    "    avg_dep_delay = row[1]['AVG_DEP_DELAY']\n",
    "    avg_delay = row[1]['DELAY_FACTOR']\n",
    "    \n",
    "    if avg_arr_delay <= 7.180000:\n",
    "        avg_arr_delay_blk = '0-25%'\n",
    "    elif avg_arr_delay <= 11.859649:\n",
    "        avg_arr_delay_blk = '25-50%'\n",
    "    elif avg_arr_delay <= 18.013158:\n",
    "        avg_arr_delay_blk = '50-75%'\n",
    "    else:\n",
    "        avg_arr_delay_blk = '75-100%'\n",
    "    avg_arr_delay_blks.append(avg_arr_delay_blk)\n",
    "    \n",
    "    if avg_dep_delay <= 2.000000:\n",
    "        avg_dep_delay_blk = '0-25%'\n",
    "    elif avg_dep_delay < 12.720000:\n",
    "        avg_dep_delay_blk = '25-50%'\n",
    "    elif avg_dep_delay == 12.720000:\n",
    "        avg_dep_delay_blk = '50-75%'\n",
    "    else:\n",
    "        avg_dep_delay_blk = '75-100%'\n",
    "    avg_dep_delay_blks.append(avg_dep_delay_blk)\n",
    "    \n",
    "    if avg_delay <= 2.300502:\n",
    "        avg_delay_blk = '0-25%'\n",
    "    elif avg_delay <= 7.321202:\n",
    "        avg_delay_blk = '25-50%'\n",
    "    elif avg_delay <= 14.838485:\n",
    "        avg_delay_blk = '50-75%'\n",
    "    else:\n",
    "        avg_delay_blk = '75-100%'\n",
    "    avg_delay_blks.append(avg_delay_blk)    "
   ]
  },
  {
   "cell_type": "code",
   "execution_count": null,
   "id": "656219ac",
   "metadata": {},
   "outputs": [],
   "source": [
    "X['AVG_ARR_DELAY_GROUPS']=avg_arr_delay_blks\n",
    "X['AVG_DEP_DELAY_GROUPS']=avg_arr_delay_blks\n",
    "X['DELAY_FACTOR_GROUPS']=avg_delay_blks\n",
    "\n",
    "X"
   ]
  },
  {
   "cell_type": "code",
   "execution_count": null,
   "id": "a6a90019",
   "metadata": {},
   "outputs": [],
   "source": [
    "X_origin = X.loc[X['ORIGIN']=='MCI']\n",
    "X_dest = X.loc[X['DEST']=='MCI']"
   ]
  },
  {
   "cell_type": "code",
   "execution_count": null,
   "id": "9a582bbc",
   "metadata": {},
   "outputs": [],
   "source": [
    "MCI_origin_df.columns"
   ]
  },
  {
   "cell_type": "code",
   "execution_count": null,
   "id": "bb6971ee",
   "metadata": {},
   "outputs": [],
   "source": [
    "y_origin = MCI_origin_df['Status']\n",
    "y_dest = MCI_dest_df['Status']"
   ]
  },
  {
   "cell_type": "code",
   "execution_count": null,
   "id": "4557ffb3",
   "metadata": {},
   "outputs": [],
   "source": [
    "y_dest"
   ]
  },
  {
   "cell_type": "code",
   "execution_count": null,
   "id": "9cbc14f5",
   "metadata": {},
   "outputs": [],
   "source": [
    "y = pd.concat([y_origin,y_dest])"
   ]
  },
  {
   "cell_type": "code",
   "execution_count": null,
   "id": "aad6dc34",
   "metadata": {},
   "outputs": [],
   "source": [
    "y.dtypes"
   ]
  },
  {
   "cell_type": "code",
   "execution_count": null,
   "id": "520c02fd",
   "metadata": {},
   "outputs": [],
   "source": [
    "y_dummies = pd.get_dummies(y)"
   ]
  },
  {
   "cell_type": "code",
   "execution_count": null,
   "id": "fa5f9600",
   "metadata": {
    "scrolled": true
   },
   "outputs": [],
   "source": [
    "y_dummies.describe()"
   ]
  },
  {
   "cell_type": "code",
   "execution_count": null,
   "id": "4d27b2e5",
   "metadata": {},
   "outputs": [],
   "source": [
    "X.columns"
   ]
  },
  {
   "cell_type": "code",
   "execution_count": null,
   "id": "535cce64",
   "metadata": {},
   "outputs": [],
   "source": [
    "X_dummies = pd.get_dummies(X[['MONTH', 'DAY_OF_MONTH', 'DAY_OF_WEEK', 'MKT_UNIQUE_CARRIER',\n",
    "       'ORIGIN', 'DEST', 'DEP_TIME_BLK']], drop_first=True)"
   ]
  },
  {
   "cell_type": "code",
   "execution_count": null,
   "id": "bf7ef00a",
   "metadata": {},
   "outputs": [],
   "source": [
    "# Import our dependencies\n",
    "from sklearn.model_selection import train_test_split\n",
    "from sklearn.preprocessing import StandardScaler\n",
    "import tensorflow as tf\n",
    "from keras.layers import Dense, Dropout"
   ]
  },
  {
   "cell_type": "code",
   "execution_count": null,
   "id": "c70c47a5",
   "metadata": {},
   "outputs": [],
   "source": [
    "scaler = StandardScaler()\n",
    "scaler.fit(X_dummies)\n",
    "transformed_data = scaler.transform(X_dummies)\n",
    "# Creating a DataFrame with with the scaled data\n",
    "transformed_data_df = pd.DataFrame(transformed_data)\n",
    "\n",
    "# Display sample data\n",
    "transformed_data_df"
   ]
  },
  {
   "cell_type": "code",
   "execution_count": null,
   "id": "abf89984",
   "metadata": {},
   "outputs": [],
   "source": [
    "from sklearn.decomposition import PCA\n",
    "import matplotlib.pyplot as plt\n",
    "import numpy as np\n",
    "pca = PCA().fit(transformed_data_df)\n",
    "plt.plot(np.cumsum(pca.explained_variance_ratio_))\n",
    "plt.xlabel('number of components')\n",
    "plt.ylabel('cumulative explained variance')"
   ]
  },
  {
   "cell_type": "code",
   "execution_count": null,
   "id": "e8146638",
   "metadata": {},
   "outputs": [],
   "source": [
    "from sklearn.decomposition import PCA\n",
    "# Create a PCA model\n",
    "nc = 15\n",
    "pca = PCA(n_components=nc)\n",
    "pca_data = pca.fit_transform(transformed_data_df)\n",
    "pca_dict = {}\n",
    "for i in range(0,nc):\n",
    "    pca_dict[f'pca{i+1}']=pca_data[:,i]\n",
    "# Display sample data\n",
    "pca_df = pd.DataFrame(pca_dict)\n",
    "pca_df"
   ]
  },
  {
   "cell_type": "code",
   "execution_count": null,
   "id": "97f30726",
   "metadata": {},
   "outputs": [],
   "source": [
    "y"
   ]
  },
  {
   "cell_type": "code",
   "execution_count": null,
   "id": "c0f0b0f9",
   "metadata": {},
   "outputs": [],
   "source": [
    "X_dummies.columns"
   ]
  },
  {
   "cell_type": "code",
   "execution_count": null,
   "id": "d0d36e6b",
   "metadata": {},
   "outputs": [],
   "source": [
    "# Split the preprocessed data into a training and testing dataset\n",
    "X_train, X_test, y_train, y_test = train_test_split(X_dummies, y,test_size=0.30, random_state=78)"
   ]
  },
  {
   "cell_type": "code",
   "execution_count": null,
   "id": "5e644f2d",
   "metadata": {
    "scrolled": false
   },
   "outputs": [],
   "source": [
    "# Define the model - deep neural net, i.e., the number of input features and hidden nodes for each layer.\n",
    "\n",
    "nn_model = tf.keras.models.Sequential()\n",
    "\n",
    "# First hidden layer\n",
    "nn_model.add(tf.keras.layers.Dense(units=64, activation=\"relu\", input_dim=len(X_dummies.columns)))\n",
    "# Second hidden layer\n",
    "nn_model.add(tf.keras.layers.Dense(units=128, activation=\"relu\"))\n",
    "#nn_model.add(Dropout(0.2))\n",
    "# Second hidden layer\n",
    "nn_model.add(tf.keras.layers.Dense(units=512, activation=\"relu\"))\n",
    "#nn_model.add(Dropout(0.5))\n",
    "# Third hidden layer\n",
    "nn_model.add(tf.keras.layers.Dense(units=1024, activation=\"relu\"))\n",
    "#nn_model.add(Dropout(0.7))\n",
    "# Third hidden layer\n",
    "nn_model.add(tf.keras.layers.Dense(units=512, activation=\"sigmoid\"))\n",
    "#nn_model.add(Dropout(0.5))\n",
    "nn_model.add(tf.keras.layers.Dense(units=64, activation=\"sigmoid\"))\n",
    "nn_model.add(Dropout(0.8))\n",
    "# Output layer\n",
    "nn_model.add(tf.keras.layers.Dense(units=1, activation=\"sigmoid\"))\n",
    "\n",
    "# Check the structure of the model\n",
    "nn_model.summary()"
   ]
  },
  {
   "cell_type": "code",
   "execution_count": null,
   "id": "66802b47",
   "metadata": {},
   "outputs": [],
   "source": [
    "# Compile the model\n",
    "nn_model.compile(loss=\"binary_crossentropy\", optimizer=\"adam\", metrics=[\"accuracy\"])"
   ]
  },
  {
   "cell_type": "code",
   "execution_count": null,
   "id": "a4ccf1db",
   "metadata": {},
   "outputs": [],
   "source": [
    "# Train the model\n",
    "fit_model = nn_model.fit(X_train, y_train, epochs=10)"
   ]
  },
  {
   "cell_type": "code",
   "execution_count": null,
   "id": "c8d03c5e",
   "metadata": {},
   "outputs": [],
   "source": [
    "model_loss, model_accuracy = nn_model.evaluate(X_test,y_test,verbose=2)\n",
    "print(f\"Loss: {model_loss}, Accuracy: {model_accuracy}\")"
   ]
  },
  {
   "cell_type": "code",
   "execution_count": null,
   "id": "a01df75c",
   "metadata": {},
   "outputs": [],
   "source": [
    "predictions = nn_model.predict(X_test)\n",
    "predictions"
   ]
  },
  {
   "cell_type": "code",
   "execution_count": null,
   "id": "5ecad65c",
   "metadata": {},
   "outputs": [],
   "source": [
    "X_test['Status'] = [0 if predection <0.5 else 1 for predection in predictions]"
   ]
  },
  {
   "cell_type": "code",
   "execution_count": null,
   "id": "ffb0c4a5",
   "metadata": {},
   "outputs": [],
   "source": [
    "y_test.describe()"
   ]
  },
  {
   "cell_type": "code",
   "execution_count": null,
   "id": "5d7cafdc",
   "metadata": {},
   "outputs": [],
   "source": [
    "predictions_df = pd.DataFrame(predictions.tolist())\n",
    "predictions_df.describe()"
   ]
  },
  {
   "cell_type": "code",
   "execution_count": null,
   "id": "8b66c770",
   "metadata": {},
   "outputs": [],
   "source": [
    "predictions_df"
   ]
  },
  {
   "cell_type": "code",
   "execution_count": null,
   "id": "f49bac5b",
   "metadata": {},
   "outputs": [],
   "source": [
    "X_test"
   ]
  },
  {
   "cell_type": "code",
   "execution_count": null,
   "id": "34d50cc0",
   "metadata": {},
   "outputs": [],
   "source": [
    "nn_model.save('../nn_model.keras')"
   ]
  },
  {
   "cell_type": "code",
   "execution_count": null,
   "id": "abdc35f6",
   "metadata": {},
   "outputs": [],
   "source": [
    "from sklearn.metrics import balanced_accuracy_score, confusion_matrix, classification_report\n",
    "\n",
    "from sklearn.linear_model import LogisticRegression"
   ]
  },
  {
   "cell_type": "code",
   "execution_count": null,
   "id": "d6aa41e8",
   "metadata": {},
   "outputs": [],
   "source": [
    "model = LogisticRegression(random_state=1)\n",
    "\n",
    "# Fit the model using training data\n",
    "model.fit(X_train, y_train)"
   ]
  },
  {
   "cell_type": "code",
   "execution_count": null,
   "id": "77c48599",
   "metadata": {},
   "outputs": [],
   "source": [
    "model.score(X_train, y_train)"
   ]
  },
  {
   "cell_type": "code",
   "execution_count": null,
   "id": "efdc118b",
   "metadata": {},
   "outputs": [],
   "source": [
    "# Make a prediction using the testing data\n",
    "predictions = model.predict(X_test)\n",
    "# Print the balanced_accuracy score of the model\n",
    "balanced_accuracy_score(y_test,predictions)"
   ]
  },
  {
   "cell_type": "code",
   "execution_count": null,
   "id": "26375953",
   "metadata": {},
   "outputs": [],
   "source": [
    "# Generate a confusion matrix for the model\n",
    "confusion_matrix(y_test,predictions)"
   ]
  },
  {
   "cell_type": "code",
   "execution_count": null,
   "id": "44455f05",
   "metadata": {},
   "outputs": [],
   "source": [
    "# Print the classification report for the model\n",
    "tn, fp, fn, tp = confusion_matrix(y_test, predictions).ravel()\n",
    "accuracy = (tp + tn) / (tp + fp + tn + fn)\n",
    "accuracy"
   ]
  },
  {
   "cell_type": "code",
   "execution_count": null,
   "id": "26111775",
   "metadata": {},
   "outputs": [],
   "source": [
    "tp"
   ]
  },
  {
   "cell_type": "code",
   "execution_count": null,
   "id": "8f7d0a23",
   "metadata": {},
   "outputs": [],
   "source": [
    "tn"
   ]
  },
  {
   "cell_type": "code",
   "execution_count": null,
   "id": "603d2a9c",
   "metadata": {},
   "outputs": [],
   "source": [
    "fp"
   ]
  },
  {
   "cell_type": "code",
   "execution_count": null,
   "id": "843c49f8",
   "metadata": {},
   "outputs": [],
   "source": [
    "fn"
   ]
  },
  {
   "cell_type": "code",
   "execution_count": null,
   "id": "9d3c0447",
   "metadata": {},
   "outputs": [],
   "source": [
    "lr_predictions = model.predict(X_test)\n",
    "lr_predictions"
   ]
  },
  {
   "cell_type": "code",
   "execution_count": null,
   "id": "07a0d065",
   "metadata": {},
   "outputs": [],
   "source": [
    "X_test['Prediction'] = list(lr_predictions)"
   ]
  },
  {
   "cell_type": "code",
   "execution_count": null,
   "id": "a577c915",
   "metadata": {},
   "outputs": [],
   "source": [
    "X_test"
   ]
  }
 ],
 "metadata": {
  "kernelspec": {
   "display_name": "PythonData",
   "language": "python",
   "name": "pythondata"
  },
  "language_info": {
   "codemirror_mode": {
    "name": "ipython",
    "version": 3
   },
   "file_extension": ".py",
   "mimetype": "text/x-python",
   "name": "python",
   "nbconvert_exporter": "python",
   "pygments_lexer": "ipython3",
   "version": "3.11.3"
  }
 },
 "nbformat": 4,
 "nbformat_minor": 5
}
